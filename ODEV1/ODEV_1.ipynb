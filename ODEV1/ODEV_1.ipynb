{
  "nbformat": 4,
  "nbformat_minor": 0,
  "metadata": {
    "colab": {
      "name": "ODEV-1.ipynb",
      "provenance": []
    },
    "kernelspec": {
      "name": "python3",
      "display_name": "Python 3"
    },
    "language_info": {
      "name": "python"
    }
  },
  "cells": [
    {
      "cell_type": "markdown",
      "source": [
        "**Güvercin Deliği Problemi**"
      ],
      "metadata": {
        "id": "Sq-OFezwQ1M2"
      }
    },
    {
      "cell_type": "markdown",
      "source": [
        "İsmini güvercin yuvalarından alan bu probleme göre yuva sayısından fazla güvercin varsa, ve bütün güvercinler bir yuvaya girecekse, en az bir yuvaya birden fazla güvercin girmek zorundadır.\n",
        "\n",
        "Bu durumu sembollerle göstermemiz gerekirse n tane yuva ve m tane güvercin için m > n durumunda en az bir yuvada birden fazla güvercin bulunmalıdır."
      ],
      "metadata": {
        "id": "Y54OpOKFNlcG"
      }
    },
    {
      "cell_type": "markdown",
      "source": [
        "**Problem:**\n",
        "\n",
        "45 kişinin bir odada toplandığını düşünün. Gruplar halinde oyun oynanacak olup gruplar 8 kişilik olacağına göre en kalabalık gruplar kaç kişi olur?"
      ],
      "metadata": {
        "id": "q2PfEwZqQvWK"
      }
    },
    {
      "cell_type": "code",
      "source": [
        "import math\n",
        "\n",
        "person = 45 #odada bulunan kisi sayisi\n",
        "group = 8 #grup sayisi\n",
        "n = person/group #grup bulunan insan sayisi\n",
        "result = math.ceil(n)\n",
        "print(\"En kalabalik oyun grubu :\",result,\"kisi olur.\")"
      ],
      "metadata": {
        "colab": {
          "base_uri": "https://localhost:8080/"
        },
        "id": "_cdZ4lLWQTh0",
        "outputId": "f59e2026-5370-4a74-e2cb-a1e045fad8b0"
      },
      "execution_count": 2,
      "outputs": [
        {
          "output_type": "stream",
          "name": "stdout",
          "text": [
            "En kalabalik oyun grubu : 6 kisi olur.\n"
          ]
        }
      ]
    }
  ]
}