{
  "nbformat": 4,
  "nbformat_minor": 0,
  "metadata": {
    "colab": {
      "name": "ODEV-1.ipynb",
      "provenance": []
    },
    "kernelspec": {
      "name": "python3",
      "display_name": "Python 3"
    },
    "language_info": {
      "name": "python"
    }
  },
  "cells": [
    {
      "cell_type": "markdown",
      "source": [
        "**Güvercin Deliği Problemi**"
      ],
      "metadata": {
        "id": "Sq-OFezwQ1M2"
      }
    },
    {
      "cell_type": "markdown",
      "source": [
        "**Problem:**\n",
        "\n",
        "45 kişinin bir odada toplandığını düşünün. Gruplar halinde oyun oynanacak olup gruplar 8 kişilik olacağına göre en kalabalık gruplar kaç kişi olur?"
      ],
      "metadata": {
        "id": "q2PfEwZqQvWK"
      }
    },
    {
      "cell_type": "code",
      "source": [
        "import math\n",
        "\n",
        "n = 45 #odada bulunan kisi sayisi\n",
        "k = 8 #grup sayisi\n",
        "m = n/k #grup bulunan insan sayisi\n",
        "result = math.ceil(m)\n",
        "print(\"En kalabalik oyun grubu :\",result,\"kisi olur.\")"
      ],
      "metadata": {
        "colab": {
          "base_uri": "https://localhost:8080/"
        },
        "id": "_cdZ4lLWQTh0",
        "outputId": "33f3e248-a6b6-4c18-ec99-d03e6fbb1039"
      },
      "execution_count": 2,
      "outputs": [
        {
          "output_type": "stream",
          "name": "stdout",
          "text": [
            "En kalabalik oyun grubu : 6 kisi olur.\n"
          ]
        }
      ]
    }
  ]
}