{
  "nbformat": 4,
  "nbformat_minor": 0,
  "metadata": {
    "colab": {
      "name": "ODEV-2.ipynb",
      "provenance": []
    },
    "kernelspec": {
      "name": "python3",
      "display_name": "Python 3"
    },
    "language_info": {
      "name": "python"
    }
  },
  "cells": [
    {
      "cell_type": "code",
      "execution_count": 11,
      "metadata": {
        "id": "BsqPGyKIRK13"
      },
      "outputs": [],
      "source": [
        "def factorial(number):\n",
        "    if number == 1:\n",
        "        return 1\n",
        "    else:\n",
        "        return (number * factorial(number-1))\n",
        "\n",
        "def combination(number1, number2):\n",
        "    if (number2 > number1):\n",
        "        return \"Error\"\n",
        "    else:\n",
        "        return factorial(number1) / (factorial(number1-number2) * factorial(number2))\n",
        "\n",
        "def permutation(number1, number2):\n",
        "    if (number2 > number1):\n",
        "        return \"Error\"\n",
        "    else:\n",
        "        return factorial(number1) / factorial(number1-number2)"
      ]
    },
    {
      "cell_type": "code",
      "source": [
        ""
      ],
      "metadata": {
        "id": "uNAh3_TmEmAt"
      },
      "execution_count": 3,
      "outputs": []
    },
    {
      "cell_type": "markdown",
      "source": [
        "**Kombinasyon Problemi**\n",
        "\n",
        "8 kırmızı 5 mavi top bulunan bir torbadan en fazla 3'ü mavi olan 5 top kaç farklı şekilde seçilebilir?"
      ],
      "metadata": {
        "id": "Mywb_kSiRhbk"
      }
    },
    {
      "cell_type": "code",
      "source": [
        "( combination(5,3) * combination(8,1) ) + ( combination(5,1) * combination(8,3) ) + combination(8,5)"
      ],
      "metadata": {
        "colab": {
          "base_uri": "https://localhost:8080/"
        },
        "id": "xblhAmOqRmKR",
        "outputId": "76888694-c65b-4c97-a099-3528c8e9a200"
      },
      "execution_count": 12,
      "outputs": [
        {
          "output_type": "execute_result",
          "data": {
            "text/plain": [
              "416.0"
            ]
          },
          "metadata": {},
          "execution_count": 12
        }
      ]
    },
    {
      "cell_type": "markdown",
      "source": [
        "**Permutasyon Problemi**\n",
        "\n",
        "6 farklı bilye 8 farklı torbaya atılacaktır. Her bilye farklı torbaya atılmak koşuluyla bilyeler kaç farklı şekilde torbaya atılabilir?"
      ],
      "metadata": {
        "id": "Ehyd6zXaRpBd"
      }
    },
    {
      "cell_type": "code",
      "source": [
        "permutation(8,6)"
      ],
      "metadata": {
        "colab": {
          "base_uri": "https://localhost:8080/"
        },
        "id": "gbY7zWUpRtMt",
        "outputId": "98c6444a-a054-49d3-82e9-20cdf0bf3a59"
      },
      "execution_count": 13,
      "outputs": [
        {
          "output_type": "execute_result",
          "data": {
            "text/plain": [
              "20160.0"
            ]
          },
          "metadata": {},
          "execution_count": 13
        }
      ]
    }
  ]
}