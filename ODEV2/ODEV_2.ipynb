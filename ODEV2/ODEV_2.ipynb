{
  "nbformat": 4,
  "nbformat_minor": 0,
  "metadata": {
    "colab": {
      "name": "ODEV-2.ipynb",
      "provenance": []
    },
    "kernelspec": {
      "name": "python3",
      "display_name": "Python 3"
    },
    "language_info": {
      "name": "python"
    }
  },
  "cells": [
    {
      "cell_type": "code",
      "execution_count": 1,
      "metadata": {
        "id": "BsqPGyKIRK13"
      },
      "outputs": [],
      "source": [
        "def factorial(number):\n",
        "  factorial = 1\n",
        "  if number < 0:\n",
        "    return \"error\"\n",
        "  elif number == 0:\n",
        "    return 1\n",
        "  else:\n",
        "    for x in range(1,number + 1):\n",
        "      factorial = factorial*x\n",
        "    return factorial\n",
        "\n",
        "def combination(a,b):\n",
        "    if (b > a):\n",
        "        return \"Error\"\n",
        "    else:\n",
        "        return factorial(a) / (factorial(a-b) * factorial(b))\n",
        "\n",
        "def permutation(a,b):\n",
        "    if (b > a):\n",
        "        return \"Error\"\n",
        "    else:\n",
        "        return factorial(a) / factorial(a-b)"
      ]
    },
    {
      "cell_type": "markdown",
      "source": [
        "**Kombinasyon Problemi**\n",
        "\n",
        "8 kırmızı 5 mavi top bulunan bir torbadan en fazla 3'ü mavi olan 5 top kaç farklı şekilde seçilebilir?"
      ],
      "metadata": {
        "id": "Mywb_kSiRhbk"
      }
    },
    {
      "cell_type": "code",
      "source": [
        "( combination(5,3) * combination(8,1) ) + ( combination(5,1) * combination(8,3) ) + combination(8,5)"
      ],
      "metadata": {
        "colab": {
          "base_uri": "https://localhost:8080/"
        },
        "id": "xblhAmOqRmKR",
        "outputId": "b7af59d2-33b9-4752-a8e4-0bbd2cebc9f7"
      },
      "execution_count": 2,
      "outputs": [
        {
          "output_type": "execute_result",
          "data": {
            "text/plain": [
              "416.0"
            ]
          },
          "metadata": {},
          "execution_count": 2
        }
      ]
    },
    {
      "cell_type": "markdown",
      "source": [
        "**Permutasyon Problemi**\n",
        "\n",
        "6 farklı bilye 8 farklı torbaya atılacaktır. Her bilye farklı torbaya atılmak koşuluyla bilyeler kaç farklı şekilde torbaya atılabilir?"
      ],
      "metadata": {
        "id": "Ehyd6zXaRpBd"
      }
    },
    {
      "cell_type": "code",
      "source": [
        "permutation(8,6)"
      ],
      "metadata": {
        "colab": {
          "base_uri": "https://localhost:8080/"
        },
        "id": "gbY7zWUpRtMt",
        "outputId": "aea04214-119d-4888-9ccf-5be4611a0405"
      },
      "execution_count": 3,
      "outputs": [
        {
          "output_type": "execute_result",
          "data": {
            "text/plain": [
              "20160.0"
            ]
          },
          "metadata": {},
          "execution_count": 3
        }
      ]
    }
  ]
}