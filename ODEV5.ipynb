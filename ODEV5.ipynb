{
  "nbformat": 4,
  "nbformat_minor": 0,
  "metadata": {
    "colab": {
      "name": "ODEV5.ipynb",
      "provenance": []
    },
    "kernelspec": {
      "name": "python3",
      "display_name": "Python 3"
    },
    "language_info": {
      "name": "python"
    }
  },
  "cells": [
    {
      "cell_type": "markdown",
      "source": [
        "**KESİKLİ OLASILIK**\n",
        "\n",
        "Kesikli Olasılık Dağılımları,  rassal ve sayilabilir bir olayın meydana gelmesindeki olası dağılımı tanımlar. Bir yazı tura atıldığında yazı ve tura gelme ihtimali 1/2 olduğundan; iki farklı ihtimaldeki dağılımlar kesikli dağılım olup arada değer alamazlar. Burada iki olasılık eşittir ve toplamları yüzde yüzdür. Sayılabilir şekilde ayrı olasılıkları bulunan değerler kesikli dağılıma örnek verilir."
      ],
      "metadata": {
        "id": "gC99obYQ0dTc"
      }
    },
    {
      "cell_type": "markdown",
      "source": [
        "\n",
        "\n",
        "SORU-1: \n",
        "Bir sınıfta 12 kız, 10 erkek öğrenci vardır. Etkinlikte iki öğrenci rastgele seçilecektir. Kız öğrenci sayısının ayrık olasılık dağılımını bulunuz."
      ],
      "metadata": {
        "id": "HXA6tRB30EOD"
      }
    },
    {
      "cell_type": "markdown",
      "source": [
        "E: Erkek K: Kız\n",
        "\n",
        "1. Durum (D1): Hiç kız öğrenci gelmeme durumu\n",
        "\n",
        "EE P(X=D1) = (10/22) * (9/21) = 0.194\n",
        "\n",
        "2. Durum (D2): Bir kız öğrenci gelme durumu\n",
        "\n",
        "EK - KE P(X=D2) = ((10/22) * (12/21)) + ((12/22) * (10/21)) = 0,519\n",
        "\n",
        "3. Durum (D3): İki kız öğrenci gelme durumu\n",
        "\n",
        "KK P(X=D3) = (12/22) * (11/21) = 0,285"
      ],
      "metadata": {
        "id": "2vD8P7TCwFWR"
      }
    },
    {
      "cell_type": "code",
      "source": [
        "import numpy as np\n",
        "\n",
        "\n",
        "male = 10\n",
        "female = 12\n",
        "sumStudent = 22\n",
        "pmf = []\n",
        "\n",
        "P1= (male/sumStudent) * ((male-1)/(sumStudent-1)) \n",
        "pmf.append(P1)\n",
        "\n",
        "P2=((male/sumStudent) * (female/(sumStudent-1))) + ((female/sumStudent) * (male/(sumStudent-1)))\n",
        "pmf.append(P2)\n",
        "\n",
        "P3= (female/sumStudent) *  ((female-1)/(sumStudent-1))\n",
        "pmf.append(P3)\n",
        "x=['P1', 'P2','P3']\n",
        "np.array(pmf).sum()\n",
        "\n"
      ],
      "metadata": {
        "colab": {
          "base_uri": "https://localhost:8080/"
        },
        "id": "ozjKrOumwKAe",
        "outputId": "4eade39e-aac1-46a2-9d83-fc665e122cbf"
      },
      "execution_count": 14,
      "outputs": [
        {
          "output_type": "execute_result",
          "data": {
            "text/plain": [
              "0.9999999999999999"
            ]
          },
          "metadata": {},
          "execution_count": 14
        }
      ]
    },
    {
      "cell_type": "markdown",
      "source": [
        "Soru-2: 10 sarı, 3 siyah topun bulunduğu bir torbadan 2 top çekiliyor.\n",
        "\n",
        "\n",
        "Siyah top gelme sayısına ait kesikli olasılık dağılımını bulunuz.\n",
        "\n",
        "Çözüm : Siyah top için rastgele değişkenler =(0,1,2)\n",
        "\n",
        "P(x=0)=(10/13 * 9/12)=2/7\n",
        "\n",
        "P(x=1)=(10/13 9/12)+(3/13 10/12)=4/7\n",
        "\n",
        "P(x=2)=(9/13 * 2/12)=1/7\n",
        "\n",
        "\n"
      ],
      "metadata": {
        "id": "xBNn3qnT0kMt"
      }
    },
    {
      "cell_type": "code",
      "source": [
        "yellow = 10\n",
        "black = 3\n",
        "Total= yellow + black\n",
        "P1 = (yellow/Total)*(yellow/(Total-1))\n",
        "P2 = (((yellow/Total)*(black/(Total-1)))+((black/Total)*(yellow/(Total-1))))\n",
        "P3 = ((black/Total)*((black-1)/(Total-1)))\n",
        "liste = [P1, P2, P3]\n",
        "print(\"P(x=0): \"  + str(liste[0]) +\"\\nP(x=1): \" +str(liste[1]) + \"\\nP(x=2): \"+ str(liste[2]))\n"
      ],
      "metadata": {
        "colab": {
          "base_uri": "https://localhost:8080/"
        },
        "id": "mugWJPF41fp-",
        "outputId": "4a46f8ff-c4ca-4c57-ff62-afb210d0032e"
      },
      "execution_count": 19,
      "outputs": [
        {
          "output_type": "stream",
          "name": "stdout",
          "text": [
            "P(x=0): 0.6410256410256411\n",
            "P(x=1): 0.38461538461538464\n",
            "P(x=2): 0.038461538461538464\n"
          ]
        }
      ]
    }
  ]
}